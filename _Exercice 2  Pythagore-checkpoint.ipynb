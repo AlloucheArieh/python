{
 "cells": [
  {
   "cell_type": "markdown",
   "metadata": {},
   "source": [
    "# Exercice 2: Pythagore: Calcul du troisième coté d'un triangle en utilisant une fonction"
   ]
  },
  {
   "cell_type": "raw",
   "metadata": {},
   "source": [
    "#### Entrée: a, b (int) : note a, b int --> float, str, boolean, \n",
    "#### Sortie: c\n",
    "\n",
    "##################################################\n",
    "#### Gestion des exceptions pours les cas suivants:\n",
    "##################################################\n",
    "\n",
    "#### Saisie d'une str dans les arguments de la fonction\n",
    "#### Sasie un nombre complexe\n",
    "#### Saisie d'un nombre négatif\n",
    "#### Saisie d'un très grand nombre\n",
    "#### Saisie d'un très petit nombre"
   ]
  },
  {
   "cell_type": "code",
   "execution_count": null,
   "metadata": {},
   "outputs": [],
   "source": [
    "from math import*\n",
    "def calcul(a,b):\n",
    "   c = (a**2 + b**2)**(1/2)\n",
    "   return c"
   ]
  },
  {
   "cell_type": "code",
   "execution_count": null,
   "metadata": {},
   "outputs": [],
   "source": [
    "def pythagore(a,b):\n",
    "\n",
    "#### Saisie d'un str\n",
    "  if (type(a)==str) or (type(b)==str):\n",
    "    print(\"Attention vous n'avez pas rentrer de données numerique\")   \n",
    "#### Saisir un nombre complexe\n",
    "  elif type (a) ==complex or type(b) ==complex:\n",
    "     a=a.real\n",
    "     b=b.real\n",
    "     print(\"Attention nous avons converti vos nombre complexe en nombre reel\")\n",
    "###Saisir un nombre negatif\n",
    "  elif a<0 or b<0:\n",
    "   a=abs(a)#On convertit grace a la valeur absolue\n",
    "   b=abs(b)#On convertit grace a la valeur absolue\n",
    "   print(\"Attention nous avons utiliser la valeur absolue car un ou plusieurs de vos données numeriques sont negatif\")\n",
    "#### Saisie d'un très grand nombre\n",
    "  elif a> 10^7 or b> 10^7:\n",
    "        print(\"Attention votre nombre est trop grand\")\n",
    "#### Saisie d'un très petit nombre\n",
    "  elif a<0.0001 or b<0.0001:\n",
    "    print(\"Attention votre nombre est trop petit\")\n",
    "### Retourne hypothénuse d'un triangle rectangle par la fonction calcul\n",
    "  return calcul(a,b) "
   ]
  }
 ],
 "metadata": {
  "kernelspec": {
   "display_name": "Python 3",
   "language": "python",
   "name": "python3"
  },
  "language_info": {
   "codemirror_mode": {
    "name": "ipython",
    "version": 3
   },
   "file_extension": ".py",
   "mimetype": "text/x-python",
   "name": "python",
   "nbconvert_exporter": "python",
   "pygments_lexer": "ipython3",
   "version": "3.8.5"
  }
 },
 "nbformat": 4,
 "nbformat_minor": 4
}
